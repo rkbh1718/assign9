{
 "cells": [
  {
   "cell_type": "markdown",
   "id": "59593af8",
   "metadata": {},
   "source": [
    "# 1. To what does a relative path refer?"
   ]
  },
  {
   "cell_type": "code",
   "execution_count": null,
   "id": "ab61ea56",
   "metadata": {},
   "outputs": [],
   "source": [
    "a location that is relative to a current directory "
   ]
  },
  {
   "cell_type": "markdown",
   "id": "1f863249",
   "metadata": {},
   "source": [
    "# 2. What does an absolute path start with your operating system?"
   ]
  },
  {
   "cell_type": "code",
   "execution_count": null,
   "id": "0f3d8cc7",
   "metadata": {},
   "outputs": [],
   "source": [
    "absolute path is a complete path from start of actual file system from  directory."
   ]
  },
  {
   "cell_type": "markdown",
   "id": "ecc93090",
   "metadata": {},
   "source": [
    "# 3. What do the functions os.getcwd() and os.chdir() do?"
   ]
  },
  {
   "cell_type": "code",
   "execution_count": 3,
   "id": "5352ceb9",
   "metadata": {},
   "outputs": [
    {
     "data": {
      "text/plain": [
       "'C:\\\\Users\\\\RAJNEESH BHARTI\\\\Desktop\\\\ineouron\\\\assign'"
      ]
     },
     "execution_count": 3,
     "metadata": {},
     "output_type": "execute_result"
    }
   ],
   "source": [
    "import os\n",
    "os.getcwd()\n",
    "# showing current directory"
   ]
  },
  {
   "cell_type": "code",
   "execution_count": 5,
   "id": "1ee50fb5",
   "metadata": {},
   "outputs": [],
   "source": [
    "os.chdir('C:\\\\Users\\\\RAJNEESH BHARTI\\\\Desktop\\\\ineouron\\\\assign')\n",
    "#changing directory"
   ]
  },
  {
   "cell_type": "markdown",
   "id": "2d12e6ad",
   "metadata": {},
   "source": [
    "# 4. What are the . and .. folders?"
   ]
  },
  {
   "cell_type": "code",
   "execution_count": null,
   "id": "e3e9425a",
   "metadata": {},
   "outputs": [],
   "source": [
    "The . is the current directory, while .. signifies the parent directory"
   ]
  },
  {
   "cell_type": "markdown",
   "id": "032e525a",
   "metadata": {},
   "source": [
    "# 5. In C:\\bacon\\eggs\\spam.txt, which part is the dir name, and which part is the base name?"
   ]
  },
  {
   "cell_type": "code",
   "execution_count": null,
   "id": "2fb7b742",
   "metadata": {},
   "outputs": [],
   "source": [
    "dir name - C:\\bacon\\eggs\\\n",
    "base name -spam.txt"
   ]
  },
  {
   "cell_type": "markdown",
   "id": "75e26a24",
   "metadata": {},
   "source": [
    "# 6. What are the three “mode” arguments that can be passed to the open() function?"
   ]
  },
  {
   "cell_type": "code",
   "execution_count": null,
   "id": "0fe311cf",
   "metadata": {},
   "outputs": [],
   "source": [
    "read write and read write"
   ]
  },
  {
   "cell_type": "markdown",
   "id": "9ab9e7b6",
   "metadata": {},
   "source": [
    "# 7. What happens if an existing file is opened in write mode?"
   ]
  },
  {
   "cell_type": "code",
   "execution_count": 8,
   "id": "dc716b26",
   "metadata": {},
   "outputs": [],
   "source": [
    "we can able to write "
   ]
  },
  {
   "cell_type": "markdown",
   "id": "91e6e566",
   "metadata": {},
   "source": [
    "# 8. How do you tell the difference between read() and readlines()?"
   ]
  },
  {
   "cell_type": "code",
   "execution_count": 10,
   "id": "2bb3932b",
   "metadata": {},
   "outputs": [],
   "source": [
    "f=open(\"test1.txt\", \"w\")"
   ]
  },
  {
   "cell_type": "code",
   "execution_count": 13,
   "id": "34b415b8",
   "metadata": {},
   "outputs": [],
   "source": [
    "f=open(\"test1.txt\",\"r\")"
   ]
  },
  {
   "cell_type": "code",
   "execution_count": 14,
   "id": "a37c7805",
   "metadata": {},
   "outputs": [
    {
     "data": {
      "text/plain": [
       "'jhosjfgvkmdf;kvms;fm[vl,sf;kpnvond lsnojbvol bgdkbvjf sdibvojdzmglknbzgd\\nsdnvkbgxjrbnxdg\\ngbgfrxnhxtmrjyndg\\ngbxfgrnhgf\\n\\nfgxnhxhtngj\\nc'"
      ]
     },
     "execution_count": 14,
     "metadata": {},
     "output_type": "execute_result"
    }
   ],
   "source": [
    "f.read() # reading full sentence"
   ]
  },
  {
   "cell_type": "code",
   "execution_count": 16,
   "id": "46965d2c",
   "metadata": {},
   "outputs": [
    {
     "data": {
      "text/plain": [
       "0"
      ]
     },
     "execution_count": 16,
     "metadata": {},
     "output_type": "execute_result"
    }
   ],
   "source": [
    "f.seek(0)"
   ]
  },
  {
   "cell_type": "code",
   "execution_count": 17,
   "id": "014487ea",
   "metadata": {},
   "outputs": [
    {
     "data": {
      "text/plain": [
       "['jhosjfgvkmdf;kvms;fm[vl,sf;kpnvond lsnojbvol bgdkbvjf sdibvojdzmglknbzgd\\n',\n",
       " 'sdnvkbgxjrbnxdg\\n',\n",
       " 'gbgfrxnhxtmrjyndg\\n',\n",
       " 'gbxfgrnhgf\\n',\n",
       " '\\n',\n",
       " 'fgxnhxhtngj\\n',\n",
       " 'c']"
      ]
     },
     "execution_count": 17,
     "metadata": {},
     "output_type": "execute_result"
    }
   ],
   "source": [
    "f.readlines() # read line by line"
   ]
  },
  {
   "cell_type": "markdown",
   "id": "65bf03df",
   "metadata": {},
   "source": [
    "# 9. What data structure does a shelf value resemble?"
   ]
  },
  {
   "cell_type": "code",
   "execution_count": null,
   "id": "9b064ab1",
   "metadata": {},
   "outputs": [],
   "source": [
    "dictonary"
   ]
  },
  {
   "cell_type": "code",
   "execution_count": null,
   "id": "48d947ae",
   "metadata": {},
   "outputs": [],
   "source": []
  }
 ],
 "metadata": {
  "kernelspec": {
   "display_name": "Python 3",
   "language": "python",
   "name": "python3"
  },
  "language_info": {
   "codemirror_mode": {
    "name": "ipython",
    "version": 3
   },
   "file_extension": ".py",
   "mimetype": "text/x-python",
   "name": "python",
   "nbconvert_exporter": "python",
   "pygments_lexer": "ipython3",
   "version": "3.8.8"
  }
 },
 "nbformat": 4,
 "nbformat_minor": 5
}
